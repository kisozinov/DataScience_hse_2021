{
 "cells": [
  {
   "cell_type": "markdown",
   "id": "39f93225",
   "metadata": {},
   "source": [
    "# Лабораторная работа №2"
   ]
  },
  {
   "cell_type": "markdown",
   "id": "ea4738fb",
   "metadata": {},
   "source": [
    " ***Выполнили: Созинов Кирилл и Назаров Вячеслав, 19ПМИ-2.***"
   ]
  },
  {
   "cell_type": "markdown",
   "id": "b1ebd788",
   "metadata": {},
   "source": [
    "# I часть"
   ]
  },
  {
   "cell_type": "markdown",
   "id": "b7fb1792",
   "metadata": {},
   "source": [
    "Подключаем основные библиотеки:"
   ]
  },
  {
   "cell_type": "code",
   "execution_count": 381,
   "id": "7c9efad4",
   "metadata": {},
   "outputs": [],
   "source": [
    "import numpy as np\n",
    "import pandas as pd\n",
    "import matplotlib.pyplot as plt"
   ]
  },
  {
   "cell_type": "markdown",
   "id": "e8e22407",
   "metadata": {},
   "source": [
    "Загружаем первый датасет:"
   ]
  },
  {
   "cell_type": "code",
   "execution_count": 117,
   "id": "78f44812",
   "metadata": {},
   "outputs": [],
   "source": [
    "df = pd.read_excel('C:/Users/ciril/Datasets/CCPP/Folds5x2_pp.xlsx')"
   ]
  },
  {
   "cell_type": "code",
   "execution_count": 12,
   "id": "2be9a8b7",
   "metadata": {},
   "outputs": [
    {
     "data": {
      "text/html": [
       "<div>\n",
       "<style scoped>\n",
       "    .dataframe tbody tr th:only-of-type {\n",
       "        vertical-align: middle;\n",
       "    }\n",
       "\n",
       "    .dataframe tbody tr th {\n",
       "        vertical-align: top;\n",
       "    }\n",
       "\n",
       "    .dataframe thead th {\n",
       "        text-align: right;\n",
       "    }\n",
       "</style>\n",
       "<table border=\"1\" class=\"dataframe\">\n",
       "  <thead>\n",
       "    <tr style=\"text-align: right;\">\n",
       "      <th></th>\n",
       "      <th>AT</th>\n",
       "      <th>V</th>\n",
       "      <th>AP</th>\n",
       "      <th>RH</th>\n",
       "      <th>PE</th>\n",
       "    </tr>\n",
       "  </thead>\n",
       "  <tbody>\n",
       "    <tr>\n",
       "      <th>0</th>\n",
       "      <td>14.96</td>\n",
       "      <td>41.76</td>\n",
       "      <td>1024.07</td>\n",
       "      <td>73.17</td>\n",
       "      <td>463.26</td>\n",
       "    </tr>\n",
       "    <tr>\n",
       "      <th>1</th>\n",
       "      <td>25.18</td>\n",
       "      <td>62.96</td>\n",
       "      <td>1020.04</td>\n",
       "      <td>59.08</td>\n",
       "      <td>444.37</td>\n",
       "    </tr>\n",
       "    <tr>\n",
       "      <th>2</th>\n",
       "      <td>5.11</td>\n",
       "      <td>39.40</td>\n",
       "      <td>1012.16</td>\n",
       "      <td>92.14</td>\n",
       "      <td>488.56</td>\n",
       "    </tr>\n",
       "    <tr>\n",
       "      <th>3</th>\n",
       "      <td>20.86</td>\n",
       "      <td>57.32</td>\n",
       "      <td>1010.24</td>\n",
       "      <td>76.64</td>\n",
       "      <td>446.48</td>\n",
       "    </tr>\n",
       "    <tr>\n",
       "      <th>4</th>\n",
       "      <td>10.82</td>\n",
       "      <td>37.50</td>\n",
       "      <td>1009.23</td>\n",
       "      <td>96.62</td>\n",
       "      <td>473.90</td>\n",
       "    </tr>\n",
       "    <tr>\n",
       "      <th>...</th>\n",
       "      <td>...</td>\n",
       "      <td>...</td>\n",
       "      <td>...</td>\n",
       "      <td>...</td>\n",
       "      <td>...</td>\n",
       "    </tr>\n",
       "    <tr>\n",
       "      <th>9563</th>\n",
       "      <td>16.65</td>\n",
       "      <td>49.69</td>\n",
       "      <td>1014.01</td>\n",
       "      <td>91.00</td>\n",
       "      <td>460.03</td>\n",
       "    </tr>\n",
       "    <tr>\n",
       "      <th>9564</th>\n",
       "      <td>13.19</td>\n",
       "      <td>39.18</td>\n",
       "      <td>1023.67</td>\n",
       "      <td>66.78</td>\n",
       "      <td>469.62</td>\n",
       "    </tr>\n",
       "    <tr>\n",
       "      <th>9565</th>\n",
       "      <td>31.32</td>\n",
       "      <td>74.33</td>\n",
       "      <td>1012.92</td>\n",
       "      <td>36.48</td>\n",
       "      <td>429.57</td>\n",
       "    </tr>\n",
       "    <tr>\n",
       "      <th>9566</th>\n",
       "      <td>24.48</td>\n",
       "      <td>69.45</td>\n",
       "      <td>1013.86</td>\n",
       "      <td>62.39</td>\n",
       "      <td>435.74</td>\n",
       "    </tr>\n",
       "    <tr>\n",
       "      <th>9567</th>\n",
       "      <td>21.60</td>\n",
       "      <td>62.52</td>\n",
       "      <td>1017.23</td>\n",
       "      <td>67.87</td>\n",
       "      <td>453.28</td>\n",
       "    </tr>\n",
       "  </tbody>\n",
       "</table>\n",
       "<p>9568 rows × 5 columns</p>\n",
       "</div>"
      ],
      "text/plain": [
       "         AT      V       AP     RH      PE\n",
       "0     14.96  41.76  1024.07  73.17  463.26\n",
       "1     25.18  62.96  1020.04  59.08  444.37\n",
       "2      5.11  39.40  1012.16  92.14  488.56\n",
       "3     20.86  57.32  1010.24  76.64  446.48\n",
       "4     10.82  37.50  1009.23  96.62  473.90\n",
       "...     ...    ...      ...    ...     ...\n",
       "9563  16.65  49.69  1014.01  91.00  460.03\n",
       "9564  13.19  39.18  1023.67  66.78  469.62\n",
       "9565  31.32  74.33  1012.92  36.48  429.57\n",
       "9566  24.48  69.45  1013.86  62.39  435.74\n",
       "9567  21.60  62.52  1017.23  67.87  453.28\n",
       "\n",
       "[9568 rows x 5 columns]"
      ]
     },
     "execution_count": 12,
     "metadata": {},
     "output_type": "execute_result"
    }
   ],
   "source": [
    "df"
   ]
  },
  {
   "cell_type": "markdown",
   "id": "6b86e3ed",
   "metadata": {},
   "source": [
    "Разделяем датасет на данные и таргет ($X$ и $y$)"
   ]
  },
  {
   "cell_type": "code",
   "execution_count": 118,
   "id": "e1c44145",
   "metadata": {},
   "outputs": [],
   "source": [
    "X = df[[\"AT\", \"V\", \"AP\", \"RH\"]]\n",
    "y = df[\"PE\"]"
   ]
  },
  {
   "cell_type": "markdown",
   "id": "29a23662",
   "metadata": {},
   "source": [
    "Далее скалируем данные"
   ]
  },
  {
   "cell_type": "code",
   "execution_count": 140,
   "id": "3275f090",
   "metadata": {},
   "outputs": [],
   "source": [
    "from sklearn import preprocessing"
   ]
  },
  {
   "cell_type": "code",
   "execution_count": 128,
   "id": "28562b42",
   "metadata": {},
   "outputs": [
    {
     "data": {
      "text/plain": [
       "StandardScaler()"
      ]
     },
     "execution_count": 128,
     "metadata": {},
     "output_type": "execute_result"
    }
   ],
   "source": [
    "scaler = preprocessing.StandardScaler()\n",
    "scaler"
   ]
  },
  {
   "cell_type": "code",
   "execution_count": 129,
   "id": "08efef01",
   "metadata": {},
   "outputs": [
    {
     "data": {
      "text/plain": [
       "array([-1.84542088e-16, -1.92710953e-16,  5.47221131e-15, -3.37522652e-16])"
      ]
     },
     "execution_count": 129,
     "metadata": {},
     "output_type": "execute_result"
    }
   ],
   "source": [
    "X_scaled=scaler.fit_transform(X)\n",
    "X_scaled.mean(axis=0)"
   ]
  },
  {
   "cell_type": "markdown",
   "id": "7e5dc3b9",
   "metadata": {},
   "source": [
    "Получаем следующие данные:"
   ]
  },
  {
   "cell_type": "code",
   "execution_count": 131,
   "id": "ea374d30",
   "metadata": {},
   "outputs": [
    {
     "data": {
      "text/html": [
       "<div>\n",
       "<style scoped>\n",
       "    .dataframe tbody tr th:only-of-type {\n",
       "        vertical-align: middle;\n",
       "    }\n",
       "\n",
       "    .dataframe tbody tr th {\n",
       "        vertical-align: top;\n",
       "    }\n",
       "\n",
       "    .dataframe thead th {\n",
       "        text-align: right;\n",
       "    }\n",
       "</style>\n",
       "<table border=\"1\" class=\"dataframe\">\n",
       "  <thead>\n",
       "    <tr style=\"text-align: right;\">\n",
       "      <th></th>\n",
       "      <th>AT</th>\n",
       "      <th>V</th>\n",
       "      <th>AP</th>\n",
       "      <th>RH</th>\n",
       "    </tr>\n",
       "  </thead>\n",
       "  <tbody>\n",
       "    <tr>\n",
       "      <th>0</th>\n",
       "      <td>-0.629519</td>\n",
       "      <td>-0.987297</td>\n",
       "      <td>1.820488</td>\n",
       "      <td>-0.009519</td>\n",
       "    </tr>\n",
       "    <tr>\n",
       "      <th>1</th>\n",
       "      <td>0.741909</td>\n",
       "      <td>0.681045</td>\n",
       "      <td>1.141863</td>\n",
       "      <td>-0.974621</td>\n",
       "    </tr>\n",
       "    <tr>\n",
       "      <th>2</th>\n",
       "      <td>-1.951297</td>\n",
       "      <td>-1.173018</td>\n",
       "      <td>-0.185078</td>\n",
       "      <td>1.289840</td>\n",
       "    </tr>\n",
       "    <tr>\n",
       "      <th>3</th>\n",
       "      <td>0.162205</td>\n",
       "      <td>0.237203</td>\n",
       "      <td>-0.508393</td>\n",
       "      <td>0.228160</td>\n",
       "    </tr>\n",
       "    <tr>\n",
       "      <th>4</th>\n",
       "      <td>-1.185069</td>\n",
       "      <td>-1.322539</td>\n",
       "      <td>-0.678470</td>\n",
       "      <td>1.596699</td>\n",
       "    </tr>\n",
       "    <tr>\n",
       "      <th>...</th>\n",
       "      <td>...</td>\n",
       "      <td>...</td>\n",
       "      <td>...</td>\n",
       "      <td>...</td>\n",
       "    </tr>\n",
       "    <tr>\n",
       "      <th>9563</th>\n",
       "      <td>-0.402737</td>\n",
       "      <td>-0.363242</td>\n",
       "      <td>0.126450</td>\n",
       "      <td>1.211755</td>\n",
       "    </tr>\n",
       "    <tr>\n",
       "      <th>9564</th>\n",
       "      <td>-0.867037</td>\n",
       "      <td>-1.190331</td>\n",
       "      <td>1.753131</td>\n",
       "      <td>-0.447205</td>\n",
       "    </tr>\n",
       "    <tr>\n",
       "      <th>9565</th>\n",
       "      <td>1.565840</td>\n",
       "      <td>1.575811</td>\n",
       "      <td>-0.057099</td>\n",
       "      <td>-2.522618</td>\n",
       "    </tr>\n",
       "    <tr>\n",
       "      <th>9566</th>\n",
       "      <td>0.647976</td>\n",
       "      <td>1.191778</td>\n",
       "      <td>0.101191</td>\n",
       "      <td>-0.747901</td>\n",
       "    </tr>\n",
       "    <tr>\n",
       "      <th>9567</th>\n",
       "      <td>0.261507</td>\n",
       "      <td>0.646419</td>\n",
       "      <td>0.668677</td>\n",
       "      <td>-0.372545</td>\n",
       "    </tr>\n",
       "  </tbody>\n",
       "</table>\n",
       "<p>9568 rows × 4 columns</p>\n",
       "</div>"
      ],
      "text/plain": [
       "            AT         V        AP        RH\n",
       "0    -0.629519 -0.987297  1.820488 -0.009519\n",
       "1     0.741909  0.681045  1.141863 -0.974621\n",
       "2    -1.951297 -1.173018 -0.185078  1.289840\n",
       "3     0.162205  0.237203 -0.508393  0.228160\n",
       "4    -1.185069 -1.322539 -0.678470  1.596699\n",
       "...        ...       ...       ...       ...\n",
       "9563 -0.402737 -0.363242  0.126450  1.211755\n",
       "9564 -0.867037 -1.190331  1.753131 -0.447205\n",
       "9565  1.565840  1.575811 -0.057099 -2.522618\n",
       "9566  0.647976  1.191778  0.101191 -0.747901\n",
       "9567  0.261507  0.646419  0.668677 -0.372545\n",
       "\n",
       "[9568 rows x 4 columns]"
      ]
     },
     "execution_count": 131,
     "metadata": {},
     "output_type": "execute_result"
    }
   ],
   "source": [
    "X = pd.DataFrame(X_scaled, columns=[\"AT\",\"V\",\"AP\",\"RH\"])\n",
    "X"
   ]
  },
  {
   "cell_type": "markdown",
   "id": "a8326ae5",
   "metadata": {},
   "source": [
    "Взглянем на описательные статистики:"
   ]
  },
  {
   "cell_type": "code",
   "execution_count": 230,
   "id": "3774f0e6",
   "metadata": {},
   "outputs": [
    {
     "data": {
      "text/html": [
       "<div>\n",
       "<style scoped>\n",
       "    .dataframe tbody tr th:only-of-type {\n",
       "        vertical-align: middle;\n",
       "    }\n",
       "\n",
       "    .dataframe tbody tr th {\n",
       "        vertical-align: top;\n",
       "    }\n",
       "\n",
       "    .dataframe thead th {\n",
       "        text-align: right;\n",
       "    }\n",
       "</style>\n",
       "<table border=\"1\" class=\"dataframe\">\n",
       "  <thead>\n",
       "    <tr style=\"text-align: right;\">\n",
       "      <th></th>\n",
       "      <th>AT</th>\n",
       "      <th>V</th>\n",
       "      <th>AP</th>\n",
       "      <th>RH</th>\n",
       "    </tr>\n",
       "  </thead>\n",
       "  <tbody>\n",
       "    <tr>\n",
       "      <th>count</th>\n",
       "      <td>9.568000e+03</td>\n",
       "      <td>9.568000e+03</td>\n",
       "      <td>9.568000e+03</td>\n",
       "      <td>9.568000e+03</td>\n",
       "    </tr>\n",
       "    <tr>\n",
       "      <th>mean</th>\n",
       "      <td>-1.719813e-16</td>\n",
       "      <td>-2.600229e-16</td>\n",
       "      <td>5.504864e-15</td>\n",
       "      <td>-3.490855e-16</td>\n",
       "    </tr>\n",
       "    <tr>\n",
       "      <th>std</th>\n",
       "      <td>1.000052e+00</td>\n",
       "      <td>1.000052e+00</td>\n",
       "      <td>1.000052e+00</td>\n",
       "      <td>1.000052e+00</td>\n",
       "    </tr>\n",
       "    <tr>\n",
       "      <th>min</th>\n",
       "      <td>-2.394126e+00</td>\n",
       "      <td>-2.277901e+00</td>\n",
       "      <td>-3.430019e+00</td>\n",
       "      <td>-3.270589e+00</td>\n",
       "    </tr>\n",
       "    <tr>\n",
       "      <th>25%</th>\n",
       "      <td>-8.240958e-01</td>\n",
       "      <td>-9.888705e-01</td>\n",
       "      <td>-7.003615e-01</td>\n",
       "      <td>-6.836860e-01</td>\n",
       "    </tr>\n",
       "    <tr>\n",
       "      <th>50%</th>\n",
       "      <td>9.309729e-02</td>\n",
       "      <td>-1.751604e-01</td>\n",
       "      <td>-5.373067e-02</td>\n",
       "      <td>1.141150e-01</td>\n",
       "    </tr>\n",
       "    <tr>\n",
       "      <th>75%</th>\n",
       "      <td>8.143721e-01</td>\n",
       "      <td>9.627745e-01</td>\n",
       "      <td>6.737290e-01</td>\n",
       "      <td>7.891378e-01</td>\n",
       "    </tr>\n",
       "    <tr>\n",
       "      <th>max</th>\n",
       "      <td>2.342804e+00</td>\n",
       "      <td>2.144779e+00</td>\n",
       "      <td>3.374760e+00</td>\n",
       "      <td>1.839173e+00</td>\n",
       "    </tr>\n",
       "  </tbody>\n",
       "</table>\n",
       "</div>"
      ],
      "text/plain": [
       "                 AT             V            AP            RH\n",
       "count  9.568000e+03  9.568000e+03  9.568000e+03  9.568000e+03\n",
       "mean  -1.719813e-16 -2.600229e-16  5.504864e-15 -3.490855e-16\n",
       "std    1.000052e+00  1.000052e+00  1.000052e+00  1.000052e+00\n",
       "min   -2.394126e+00 -2.277901e+00 -3.430019e+00 -3.270589e+00\n",
       "25%   -8.240958e-01 -9.888705e-01 -7.003615e-01 -6.836860e-01\n",
       "50%    9.309729e-02 -1.751604e-01 -5.373067e-02  1.141150e-01\n",
       "75%    8.143721e-01  9.627745e-01  6.737290e-01  7.891378e-01\n",
       "max    2.342804e+00  2.144779e+00  3.374760e+00  1.839173e+00"
      ]
     },
     "execution_count": 230,
     "metadata": {},
     "output_type": "execute_result"
    }
   ],
   "source": [
    "X.describe()"
   ]
  },
  {
   "cell_type": "markdown",
   "id": "828aa770",
   "metadata": {},
   "source": [
    "Отобразим признаки в виде гистограмм:"
   ]
  },
  {
   "cell_type": "code",
   "execution_count": 133,
   "id": "d894a166",
   "metadata": {},
   "outputs": [
    {
     "data": {
      "image/png": "[encoded data removed]",
      "text/plain": [
       "<Figure size 432x288 with 4 Axes>"
      ]
     },
     "metadata": {
      "needs_background": "light"
     },
     "output_type": "display_data"
    }
   ],
   "source": [
    "X.hist()\n",
    "plt.show()"
   ]
  },
  {
   "cell_type": "markdown",
   "id": "be1881f4",
   "metadata": {},
   "source": [
    "Распределение признаков приблизительно нормальное"
   ]
  },
  {
   "cell_type": "code",
   "execution_count": 227,
   "id": "76146440",
   "metadata": {},
   "outputs": [
    {
     "data": {
      "image/png": "[encoded data removed]",
      "text/plain": [
       "<Figure size 432x288 with 1 Axes>"
      ]
     },
     "metadata": {
      "needs_background": "light"
     },
     "output_type": "display_data"
    }
   ],
   "source": [
    "plt.scatter(X.AT, y , color=\"blue\")\n",
    "plt.xlabel(\"Temperature\")\n",
    "plt.ylabel(\"Electrical energy output\")\n",
    "plt.show()"
   ]
  },
  {
   "cell_type": "code",
   "execution_count": 228,
   "id": "bfd3fb3d",
   "metadata": {},
   "outputs": [
    {
     "data": {
      "image/png": "[encoded data removed]",
      "text/plain": [
       "<Figure size 432x288 with 1 Axes>"
      ]
     },
     "metadata": {
      "needs_background": "light"
     },
     "output_type": "display_data"
    }
   ],
   "source": [
    "plt.scatter(X.V, y, color=\"red\")\n",
    "plt.xlabel(\"Exhaust Vacuum\")\n",
    "plt.ylabel(\"Electrical energy output\")\n",
    "plt.show()"
   ]
  },
  {
   "cell_type": "code",
   "execution_count": 229,
   "id": "ef18097f",
   "metadata": {},
   "outputs": [
    {
     "data": {
      "image/png": "[encoded data removed]",
      "text/plain": [
       "<Figure size 432x288 with 1 Axes>"
      ]
     },
     "metadata": {
      "needs_background": "light"
     },
     "output_type": "display_data"
    }
   ],
   "source": [
    "plt.scatter(X.AP, y, color=\"Purple\")\n",
    "plt.xlabel(\"Ambient Pressure\")\n",
    "plt.ylabel(\"Electrical energy output\")\n",
    "plt.show()"
   ]
  },
  {
   "cell_type": "code",
   "execution_count": 139,
   "id": "093c41ca",
   "metadata": {},
   "outputs": [
    {
     "data": {
      "image/png": "[encoded data removed]",
      "text/plain": [
       "<Figure size 432x288 with 1 Axes>"
      ]
     },
     "metadata": {
      "needs_background": "light"
     },
     "output_type": "display_data"
    }
   ],
   "source": [
    "plt.scatter(X.RH, y, color=\"orange\")\n",
    "plt.xlabel(\"Relative Humidity\")\n",
    "plt.ylabel(\"Electrical energy output\")\n",
    "plt.show()"
   ]
  },
  {
   "cell_type": "code",
   "execution_count": 186,
   "id": "d90ec0be",
   "metadata": {},
   "outputs": [],
   "source": [
    "from sklearn.linear_model import LinearRegression\n",
    "from sklearn.model_selection import train_test_split\n",
    "from sklearn.metrics import mean_squared_error, mean_absolute_error, r2_score\n",
    "from sklearn.preprocessing import PolynomialFeatures"
   ]
  },
  {
   "cell_type": "markdown",
   "id": "4db9b553",
   "metadata": {},
   "source": [
    "Разбиваем выборку на обучающую и тестовую:"
   ]
  },
  {
   "cell_type": "code",
   "execution_count": 141,
   "id": "a178e0a1",
   "metadata": {},
   "outputs": [],
   "source": [
    "X_train, X_test, y_train, y_test = train_test_split(X, y, test_size=0.2)"
   ]
  },
  {
   "cell_type": "code",
   "execution_count": 30,
   "id": "56731627",
   "metadata": {},
   "outputs": [],
   "source": [
    "def quality(y, y_pred):\n",
    "    print(\"MSE:\", mean_squared_error(y, y_pred))\n",
    "    print(\"RMSE:\", mean_squared_error(y, y_pred)**(1/2))\n",
    "    print(\"MAE:\", mean_absolute_error(y, y_pred))\n",
    "    print(\"R2:\", r2_score(y, y_pred))"
   ]
  },
  {
   "cell_type": "markdown",
   "id": "35fa02fd",
   "metadata": {},
   "source": [
    "Строим модель полиномиальной регрессии и обучаем её:"
   ]
  },
  {
   "cell_type": "code",
   "execution_count": 248,
   "id": "7896c4e1",
   "metadata": {},
   "outputs": [],
   "source": [
    "poly_reg = PolynomialFeatures(degree=2)\n",
    "X_poly = poly_reg.fit_transform(X_train)\n",
    "pol_reg = LinearRegression()\n",
    "pol_reg.fit(X_poly, y_train)\n",
    "y_pred = pol_reg.predict(poly_reg.fit_transform(X_test))"
   ]
  },
  {
   "cell_type": "markdown",
   "id": "d6abdba6",
   "metadata": {},
   "source": [
    "Смотрим результаты:"
   ]
  },
  {
   "cell_type": "code",
   "execution_count": 247,
   "id": "7c788adc",
   "metadata": {},
   "outputs": [
    {
     "name": "stdout",
     "output_type": "stream",
     "text": [
      "MSE: 22.1438728163628\n",
      "RMSE: 4.705727660666605\n",
      "MAE: 3.6421624612972407\n",
      "R2: 0.9224963632788332\n"
     ]
    }
   ],
   "source": [
    "quality(y_test, y_pred)"
   ]
  },
  {
   "cell_type": "markdown",
   "id": "a7dd267a",
   "metadata": {},
   "source": [
    "Значения коэффициентов следующие:"
   ]
  },
  {
   "cell_type": "code",
   "execution_count": 198,
   "id": "cdb67604",
   "metadata": {},
   "outputs": [
    {
     "data": {
      "text/plain": [
       "array([  0.        , -13.46941095,  -3.78891996,   0.71807186,\n",
       "        -1.77674205,   0.89604077,   1.11795364,   0.14485984,\n",
       "        -0.64870546,  -0.17305059,   0.18533304,   0.10673503,\n",
       "        -0.27085745,  -0.26705424,  -0.37674281])"
      ]
     },
     "execution_count": 198,
     "metadata": {},
     "output_type": "execute_result"
    }
   ],
   "source": [
    "pol_reg.coef_"
   ]
  },
  {
   "cell_type": "markdown",
   "id": "9e5d28d2",
   "metadata": {},
   "source": [
    "### Анализ коэффициентов регресии\n",
    "- Коэффициент первого признака (**Temperature**) имеет наибольшее, но при этом отрицательное значение, т.е. с ростом температуры будет довольно значительно уменьшатся выработка энергии\n",
    "- Второй признак(**Exhaust Vacuum**) является вторым по значимости, так же с отрицательным значением коэффициента\n",
    "- Третий признак, а именно **Ambient Pressure** имеет уже положительный коэффициент, но его значение при этом мало.\n",
    "- **Relative Humidity** имеет отрицательный коэффициент и небольшое значение."
   ]
  },
  {
   "cell_type": "markdown",
   "id": "c2a52c10",
   "metadata": {},
   "source": [
    "Значение пересечения следующее:"
   ]
  },
  {
   "cell_type": "code",
   "execution_count": 190,
   "id": "1ade1c7c",
   "metadata": {},
   "outputs": [
    {
     "data": {
      "text/plain": [
       "453.21169111078024"
      ]
     },
     "execution_count": 190,
     "metadata": {},
     "output_type": "execute_result"
    }
   ],
   "source": [
    "pol_reg.intercept_"
   ]
  },
  {
   "cell_type": "markdown",
   "id": "0db35b22",
   "metadata": {},
   "source": [
    "Построим аппроксимации:"
   ]
  },
  {
   "cell_type": "code",
   "execution_count": 199,
   "id": "2c7b5b13",
   "metadata": {},
   "outputs": [],
   "source": [
    "def viz_polymonial(X_,name):\n",
    "    plt.scatter(X_, y, color='red')\n",
    "    plt.plot(X_, pol_reg.predict(poly_reg.fit_transform(X_)), color='blue')\n",
    "    plt.xlabel(name)\n",
    "    plt.ylabel('Electrical energy output')\n",
    "    plt.show()\n",
    "    return"
   ]
  },
  {
   "cell_type": "code",
   "execution_count": 203,
   "id": "29b6c9eb",
   "metadata": {},
   "outputs": [],
   "source": [
    "X_AT = X.AT.values.reshape(-1,1)\n",
    "X_V = X.V.values.reshape(-1,1)\n",
    "X_AP = X.AP.values.reshape(-1,1)\n",
    "X_RH = X.RH.values.reshape(-1,1)"
   ]
  },
  {
   "cell_type": "code",
   "execution_count": 208,
   "id": "2cf31a78",
   "metadata": {},
   "outputs": [
    {
     "data": {
      "image/png": "[encoded data removed]",
      "text/plain": [
       "<Figure size 432x288 with 1 Axes>"
      ]
     },
     "metadata": {
      "needs_background": "light"
     },
     "output_type": "display_data"
    }
   ],
   "source": [
    "poly_reg = PolynomialFeatures(degree=1)\n",
    "X_poly = poly_reg.fit_transform(X_AT)\n",
    "pol_reg = LinearRegression()\n",
    "pol_reg.fit(X_poly, y)\n",
    "viz_polymonial(X_AT, \"Temperature\")"
   ]
  },
  {
   "cell_type": "code",
   "execution_count": 219,
   "id": "2c8008ce",
   "metadata": {},
   "outputs": [
    {
     "data": {
      "image/png": "[encoded data removed]",
      "text/plain": [
       "<Figure size 432x288 with 1 Axes>"
      ]
     },
     "metadata": {
      "needs_background": "light"
     },
     "output_type": "display_data"
    }
   ],
   "source": [
    "poly_reg = PolynomialFeatures(degree=2)\n",
    "X_poly = poly_reg.fit_transform(X_V)\n",
    "pol_reg = LinearRegression()\n",
    "pol_reg.fit(X_poly, y)\n",
    "viz_polymonial(X_V, \"Exhaust Vacuum\")"
   ]
  },
  {
   "cell_type": "code",
   "execution_count": 218,
   "id": "dde36af5",
   "metadata": {},
   "outputs": [
    {
     "data": {
      "image/png": "[encoded data removed]",
      "text/plain": [
       "<Figure size 432x288 with 1 Axes>"
      ]
     },
     "metadata": {
      "needs_background": "light"
     },
     "output_type": "display_data"
    }
   ],
   "source": [
    "poly_reg = PolynomialFeatures(degree=2)\n",
    "X_poly = poly_reg.fit_transform(X_AP)\n",
    "pol_reg = LinearRegression()\n",
    "pol_reg.fit(X_poly, y)\n",
    "viz_polymonial(X_AP, \"Ambient Pressure\")"
   ]
  },
  {
   "cell_type": "code",
   "execution_count": 249,
   "id": "fa7c5581",
   "metadata": {
    "scrolled": true
   },
   "outputs": [
    {
     "data": {
      "image/png": "[encoded data removed]",
      "text/plain": [
       "<Figure size 432x288 with 1 Axes>"
      ]
     },
     "metadata": {
      "needs_background": "light"
     },
     "output_type": "display_data"
    }
   ],
   "source": [
    "poly_reg = PolynomialFeatures(degree=2)\n",
    "X_poly = poly_reg.fit_transform(X_RH)\n",
    "pol_reg = LinearRegression()\n",
    "pol_reg.fit(X_poly, y)\n",
    "viz_polymonial(X_RH, \"Relative Humidity\")"
   ]
  },
  {
   "cell_type": "markdown",
   "id": "a1f3b570",
   "metadata": {},
   "source": [
    "## Ridge регрессия"
   ]
  },
  {
   "cell_type": "code",
   "execution_count": 234,
   "id": "0fb78a4f",
   "metadata": {},
   "outputs": [],
   "source": [
    "from sklearn.linear_model import Ridge"
   ]
  },
  {
   "cell_type": "code",
   "execution_count": 320,
   "id": "b95fad72",
   "metadata": {},
   "outputs": [],
   "source": [
    "def ridge_rg(alpha=0):\n",
    "    ridge = Ridge(alpha)\n",
    "    ridge.fit(X_train, y_train)\n",
    "    y_train_pred = ridge.predict(X_train)\n",
    "    y_test_pred = ridge.predict(X_test)\n",
    "    return [r2_score(y_test, y_pred), ridge.coef_]"
   ]
  },
  {
   "cell_type": "code",
   "execution_count": 321,
   "id": "6215972a",
   "metadata": {},
   "outputs": [
    {
     "name": "stdout",
     "output_type": "stream",
     "text": [
      "MSE: 19.249314409054367\n",
      "RMSE: 4.387404062661013\n",
      "MAE: 3.3458292095848323\n",
      "R2: 0.9326273284053336\n"
     ]
    }
   ],
   "source": [
    "ridge_rg(100)\n",
    "quality(y_test, y_pred)"
   ]
  },
  {
   "cell_type": "markdown",
   "id": "4a11e00f",
   "metadata": {},
   "source": [
    "Коэффициенты для *Ridge* регрессии с параметром $\\lambda = 100$ выглядят след. образом:"
   ]
  },
  {
   "cell_type": "code",
   "execution_count": 340,
   "id": "ac3a59d8",
   "metadata": {},
   "outputs": [
    {
     "data": {
      "text/plain": [
       "array([-13.90557519,  -3.49439323,   0.51523825,  -1.97520952])"
      ]
     },
     "execution_count": 340,
     "metadata": {},
     "output_type": "execute_result"
    }
   ],
   "source": [
    "ridge.coef_"
   ]
  },
  {
   "cell_type": "markdown",
   "id": "9bf974e5",
   "metadata": {},
   "source": [
    "В случае линейной регрессии, значение $R^2$ изменилось на примерно одну сотую, но в случае полиномиальной регрессии второй степени значения $R^2$ оказываются абсолютно равны. Коэффициенты регрессии незначительно отличаются."
   ]
  },
  {
   "cell_type": "markdown",
   "id": "8acd54d7",
   "metadata": {},
   "source": [
    "Было выбрано значение $\\lambda$ от $1$ до $505$ с шагом в $5$ для наглядности. Собираем матрицу:"
   ]
  },
  {
   "cell_type": "code",
   "execution_count": 366,
   "id": "0c2beb67",
   "metadata": {},
   "outputs": [
    {
     "data": {
      "text/html": [
       "<div>\n",
       "<style scoped>\n",
       "    .dataframe tbody tr th:only-of-type {\n",
       "        vertical-align: middle;\n",
       "    }\n",
       "\n",
       "    .dataframe tbody tr th {\n",
       "        vertical-align: top;\n",
       "    }\n",
       "\n",
       "    .dataframe thead th {\n",
       "        text-align: right;\n",
       "    }\n",
       "</style>\n",
       "<table border=\"1\" class=\"dataframe\">\n",
       "  <thead>\n",
       "    <tr style=\"text-align: right;\">\n",
       "      <th></th>\n",
       "      <th>alpha</th>\n",
       "      <th>R2</th>\n",
       "      <th>c1</th>\n",
       "      <th>c2</th>\n",
       "      <th>c3</th>\n",
       "      <th>c4</th>\n",
       "    </tr>\n",
       "  </thead>\n",
       "  <tbody>\n",
       "    <tr>\n",
       "      <th>0</th>\n",
       "      <td>1.0</td>\n",
       "      <td>0.932627</td>\n",
       "      <td>-14.834357</td>\n",
       "      <td>-2.946595</td>\n",
       "      <td>0.312615</td>\n",
       "      <td>-2.314923</td>\n",
       "    </tr>\n",
       "    <tr>\n",
       "      <th>1</th>\n",
       "      <td>6.0</td>\n",
       "      <td>0.932627</td>\n",
       "      <td>-14.782195</td>\n",
       "      <td>-2.978037</td>\n",
       "      <td>0.323887</td>\n",
       "      <td>-2.295977</td>\n",
       "    </tr>\n",
       "    <tr>\n",
       "      <th>2</th>\n",
       "      <td>11.0</td>\n",
       "      <td>0.932627</td>\n",
       "      <td>-14.730653</td>\n",
       "      <td>-3.009032</td>\n",
       "      <td>0.335037</td>\n",
       "      <td>-2.277242</td>\n",
       "    </tr>\n",
       "    <tr>\n",
       "      <th>3</th>\n",
       "      <td>16.0</td>\n",
       "      <td>0.932627</td>\n",
       "      <td>-14.679720</td>\n",
       "      <td>-3.039589</td>\n",
       "      <td>0.346068</td>\n",
       "      <td>-2.258714</td>\n",
       "    </tr>\n",
       "    <tr>\n",
       "      <th>4</th>\n",
       "      <td>21.0</td>\n",
       "      <td>0.932627</td>\n",
       "      <td>-14.629386</td>\n",
       "      <td>-3.069715</td>\n",
       "      <td>0.356980</td>\n",
       "      <td>-2.240389</td>\n",
       "    </tr>\n",
       "    <tr>\n",
       "      <th>...</th>\n",
       "      <td>...</td>\n",
       "      <td>...</td>\n",
       "      <td>...</td>\n",
       "      <td>...</td>\n",
       "      <td>...</td>\n",
       "      <td>...</td>\n",
       "    </tr>\n",
       "    <tr>\n",
       "      <th>96</th>\n",
       "      <td>481.0</td>\n",
       "      <td>0.932627</td>\n",
       "      <td>-11.615964</td>\n",
       "      <td>-4.691302</td>\n",
       "      <td>1.034617</td>\n",
       "      <td>-1.111172</td>\n",
       "    </tr>\n",
       "    <tr>\n",
       "      <th>97</th>\n",
       "      <td>486.0</td>\n",
       "      <td>0.932627</td>\n",
       "      <td>-11.594362</td>\n",
       "      <td>-4.701135</td>\n",
       "      <td>1.039661</td>\n",
       "      <td>-1.102804</td>\n",
       "    </tr>\n",
       "    <tr>\n",
       "      <th>98</th>\n",
       "      <td>491.0</td>\n",
       "      <td>0.932627</td>\n",
       "      <td>-11.572912</td>\n",
       "      <td>-4.710864</td>\n",
       "      <td>1.044672</td>\n",
       "      <td>-1.094492</td>\n",
       "    </tr>\n",
       "    <tr>\n",
       "      <th>99</th>\n",
       "      <td>496.0</td>\n",
       "      <td>0.932627</td>\n",
       "      <td>-11.551614</td>\n",
       "      <td>-4.720491</td>\n",
       "      <td>1.049650</td>\n",
       "      <td>-1.086233</td>\n",
       "    </tr>\n",
       "    <tr>\n",
       "      <th>100</th>\n",
       "      <td>501.0</td>\n",
       "      <td>0.932627</td>\n",
       "      <td>-11.530465</td>\n",
       "      <td>-4.730016</td>\n",
       "      <td>1.054596</td>\n",
       "      <td>-1.078028</td>\n",
       "    </tr>\n",
       "  </tbody>\n",
       "</table>\n",
       "<p>101 rows × 6 columns</p>\n",
       "</div>"
      ],
      "text/plain": [
       "     alpha        R2         c1        c2        c3        c4\n",
       "0      1.0  0.932627 -14.834357 -2.946595  0.312615 -2.314923\n",
       "1      6.0  0.932627 -14.782195 -2.978037  0.323887 -2.295977\n",
       "2     11.0  0.932627 -14.730653 -3.009032  0.335037 -2.277242\n",
       "3     16.0  0.932627 -14.679720 -3.039589  0.346068 -2.258714\n",
       "4     21.0  0.932627 -14.629386 -3.069715  0.356980 -2.240389\n",
       "..     ...       ...        ...       ...       ...       ...\n",
       "96   481.0  0.932627 -11.615964 -4.691302  1.034617 -1.111172\n",
       "97   486.0  0.932627 -11.594362 -4.701135  1.039661 -1.102804\n",
       "98   491.0  0.932627 -11.572912 -4.710864  1.044672 -1.094492\n",
       "99   496.0  0.932627 -11.551614 -4.720491  1.049650 -1.086233\n",
       "100  501.0  0.932627 -11.530465 -4.730016  1.054596 -1.078028\n",
       "\n",
       "[101 rows x 6 columns]"
      ]
     },
     "execution_count": 366,
     "metadata": {},
     "output_type": "execute_result"
    }
   ],
   "source": [
    "alpha_arr = np.arange(1, 505, 5)\n",
    "r2_arr = np.zeros(101)\n",
    "c1_arr = np.zeros(101)\n",
    "c2_arr = np.zeros(101)\n",
    "c3_arr = np.zeros(101)\n",
    "c4_arr = np.zeros(101)\n",
    "k = 0\n",
    "for i in alpha_arr:\n",
    "    t = ridge_rg(i)\n",
    "    r2_arr[k] = t[0]\n",
    "    c1_arr[k] = t[1][0]\n",
    "    c2_arr[k] = t[1][1]\n",
    "    c3_arr[k] = t[1][2]\n",
    "    c4_arr[k] = t[1][3]\n",
    "    k+=1\n",
    "res = np.stack((alpha_arr, r2_arr, c1_arr, c2_arr, c3_arr, c4_arr), axis=1)\n",
    "rdf = pd.DataFrame(data=res)\n",
    "rdf.columns = ['alpha', 'R2', 'c1', 'c2', 'c3', 'c4']\n",
    "rdf"
   ]
  },
  {
   "cell_type": "markdown",
   "id": "3fe6e401",
   "metadata": {},
   "source": [
    "Как можем видеть, $R^2$ является в этом случае константным значением"
   ]
  },
  {
   "cell_type": "code",
   "execution_count": 367,
   "id": "c507022e",
   "metadata": {},
   "outputs": [
    {
     "data": {
      "image/png": "[encoded data removed]",
      "text/plain": [
       "<Figure size 432x288 with 1 Axes>"
      ]
     },
     "metadata": {
      "needs_background": "light"
     },
     "output_type": "display_data"
    }
   ],
   "source": [
    "rdf.plot(x = 0, y = 1)\n",
    "plt.xlabel('alpha')\n",
    "plt.ylabel('R2')\n",
    "plt.show()"
   ]
  },
  {
   "cell_type": "markdown",
   "id": "2c58e173",
   "metadata": {},
   "source": [
    "Зависимоcть коэффициентов выглядит след. образом:"
   ]
  },
  {
   "cell_type": "code",
   "execution_count": 333,
   "id": "a92e8e34",
   "metadata": {},
   "outputs": [
    {
     "data": {
      "image/png": "[encoded data removed]",
      "text/plain": [
       "<Figure size 432x288 with 1 Axes>"
      ]
     },
     "metadata": {
      "needs_background": "light"
     },
     "output_type": "display_data"
    }
   ],
   "source": [
    "rdf.plot(x = 0, y = [2, 3, 4, 5])\n",
    "plt.xlabel('alpha')\n",
    "plt.ylabel('coefs')\n",
    "plt.show()"
   ]
  },
  {
   "cell_type": "markdown",
   "id": "67aa9c8d",
   "metadata": {},
   "source": [
    "## Lasso регрессия"
   ]
  },
  {
   "cell_type": "code",
   "execution_count": 335,
   "id": "6ab5b8df",
   "metadata": {},
   "outputs": [],
   "source": [
    "from sklearn.linear_model import Lasso"
   ]
  },
  {
   "cell_type": "code",
   "execution_count": 336,
   "id": "1b9469e1",
   "metadata": {},
   "outputs": [],
   "source": [
    "def lasso_rg(alpha=0):\n",
    "    lasso = Lasso(alpha)\n",
    "    lasso.fit(X_train, y_train)\n",
    "    y_train_pred = lasso.predict(X_train)\n",
    "    y_test_pred = lasso.predict(X_test)\n",
    "    return [r2_score(y_test, y_pred), lasso.coef_]"
   ]
  },
  {
   "cell_type": "code",
   "execution_count": 338,
   "id": "4f570256",
   "metadata": {},
   "outputs": [
    {
     "name": "stdout",
     "output_type": "stream",
     "text": [
      "MSE: 19.249314409054367\n",
      "RMSE: 4.387404062661013\n",
      "MAE: 3.3458292095848323\n",
      "R2: 0.9326273284053336\n"
     ]
    }
   ],
   "source": [
    "lasso_rg(10)\n",
    "quality(y_test, y_pred)"
   ]
  },
  {
   "cell_type": "markdown",
   "id": "7d3d1e96",
   "metadata": {},
   "source": [
    "$R^2$ опять не изменился"
   ]
  },
  {
   "cell_type": "markdown",
   "id": "b753464d",
   "metadata": {},
   "source": [
    "Коэффициенты для *Lasso* регрессии с параметром $\\lambda = 10$ выглядят след. образом:"
   ]
  },
  {
   "cell_type": "code",
   "execution_count": 344,
   "id": "3ade5930",
   "metadata": {},
   "outputs": [
    {
     "data": {
      "text/plain": [
       "array([-6.23569382, -0.        ,  0.        ,  0.        ])"
      ]
     },
     "execution_count": 344,
     "metadata": {},
     "output_type": "execute_result"
    }
   ],
   "source": [
    "lasso.coef_"
   ]
  },
  {
   "cell_type": "markdown",
   "id": "40ab4bd9",
   "metadata": {},
   "source": [
    "Как мы видим, все коэффициенты кроме первого обратились в ноль"
   ]
  },
  {
   "cell_type": "markdown",
   "id": "9e6d933e",
   "metadata": {},
   "source": [
    "В случае *Lasso* регресии были выбраны значения от $0.1$ до $20.1$ с шагом в $0.1$"
   ]
  },
  {
   "cell_type": "code",
   "execution_count": 362,
   "id": "d84b4fdf",
   "metadata": {},
   "outputs": [
    {
     "data": {
      "text/html": [
       "<div>\n",
       "<style scoped>\n",
       "    .dataframe tbody tr th:only-of-type {\n",
       "        vertical-align: middle;\n",
       "    }\n",
       "\n",
       "    .dataframe tbody tr th {\n",
       "        vertical-align: top;\n",
       "    }\n",
       "\n",
       "    .dataframe thead th {\n",
       "        text-align: right;\n",
       "    }\n",
       "</style>\n",
       "<table border=\"1\" class=\"dataframe\">\n",
       "  <thead>\n",
       "    <tr style=\"text-align: right;\">\n",
       "      <th></th>\n",
       "      <th>alpha</th>\n",
       "      <th>R2</th>\n",
       "      <th>c1</th>\n",
       "      <th>c2</th>\n",
       "      <th>c3</th>\n",
       "      <th>c4</th>\n",
       "    </tr>\n",
       "  </thead>\n",
       "  <tbody>\n",
       "    <tr>\n",
       "      <th>0</th>\n",
       "      <td>0.1</td>\n",
       "      <td>0.932627</td>\n",
       "      <td>-14.578434</td>\n",
       "      <td>-3.000272</td>\n",
       "      <td>0.298150</td>\n",
       "      <td>-2.090686</td>\n",
       "    </tr>\n",
       "    <tr>\n",
       "      <th>1</th>\n",
       "      <td>0.2</td>\n",
       "      <td>0.932627</td>\n",
       "      <td>-14.307598</td>\n",
       "      <td>-3.062932</td>\n",
       "      <td>0.286905</td>\n",
       "      <td>-1.861158</td>\n",
       "    </tr>\n",
       "    <tr>\n",
       "      <th>2</th>\n",
       "      <td>0.3</td>\n",
       "      <td>0.932627</td>\n",
       "      <td>-14.036754</td>\n",
       "      <td>-3.125598</td>\n",
       "      <td>0.275662</td>\n",
       "      <td>-1.631627</td>\n",
       "    </tr>\n",
       "    <tr>\n",
       "      <th>3</th>\n",
       "      <td>0.4</td>\n",
       "      <td>0.932627</td>\n",
       "      <td>-13.765900</td>\n",
       "      <td>-3.188269</td>\n",
       "      <td>0.264421</td>\n",
       "      <td>-1.402093</td>\n",
       "    </tr>\n",
       "    <tr>\n",
       "      <th>4</th>\n",
       "      <td>0.5</td>\n",
       "      <td>0.932627</td>\n",
       "      <td>-13.493938</td>\n",
       "      <td>-3.251605</td>\n",
       "      <td>0.253419</td>\n",
       "      <td>-1.172187</td>\n",
       "    </tr>\n",
       "    <tr>\n",
       "      <th>...</th>\n",
       "      <td>...</td>\n",
       "      <td>...</td>\n",
       "      <td>...</td>\n",
       "      <td>...</td>\n",
       "      <td>...</td>\n",
       "      <td>...</td>\n",
       "    </tr>\n",
       "    <tr>\n",
       "      <th>195</th>\n",
       "      <td>19.6</td>\n",
       "      <td>0.932627</td>\n",
       "      <td>-0.000000</td>\n",
       "      <td>-0.000000</td>\n",
       "      <td>0.000000</td>\n",
       "      <td>0.000000</td>\n",
       "    </tr>\n",
       "    <tr>\n",
       "      <th>196</th>\n",
       "      <td>19.7</td>\n",
       "      <td>0.932627</td>\n",
       "      <td>-0.000000</td>\n",
       "      <td>-0.000000</td>\n",
       "      <td>0.000000</td>\n",
       "      <td>0.000000</td>\n",
       "    </tr>\n",
       "    <tr>\n",
       "      <th>197</th>\n",
       "      <td>19.8</td>\n",
       "      <td>0.932627</td>\n",
       "      <td>-0.000000</td>\n",
       "      <td>-0.000000</td>\n",
       "      <td>0.000000</td>\n",
       "      <td>0.000000</td>\n",
       "    </tr>\n",
       "    <tr>\n",
       "      <th>198</th>\n",
       "      <td>19.9</td>\n",
       "      <td>0.932627</td>\n",
       "      <td>-0.000000</td>\n",
       "      <td>-0.000000</td>\n",
       "      <td>0.000000</td>\n",
       "      <td>0.000000</td>\n",
       "    </tr>\n",
       "    <tr>\n",
       "      <th>199</th>\n",
       "      <td>20.0</td>\n",
       "      <td>0.932627</td>\n",
       "      <td>-0.000000</td>\n",
       "      <td>-0.000000</td>\n",
       "      <td>0.000000</td>\n",
       "      <td>0.000000</td>\n",
       "    </tr>\n",
       "  </tbody>\n",
       "</table>\n",
       "<p>200 rows × 6 columns</p>\n",
       "</div>"
      ],
      "text/plain": [
       "     alpha        R2         c1        c2        c3        c4\n",
       "0      0.1  0.932627 -14.578434 -3.000272  0.298150 -2.090686\n",
       "1      0.2  0.932627 -14.307598 -3.062932  0.286905 -1.861158\n",
       "2      0.3  0.932627 -14.036754 -3.125598  0.275662 -1.631627\n",
       "3      0.4  0.932627 -13.765900 -3.188269  0.264421 -1.402093\n",
       "4      0.5  0.932627 -13.493938 -3.251605  0.253419 -1.172187\n",
       "..     ...       ...        ...       ...       ...       ...\n",
       "195   19.6  0.932627  -0.000000 -0.000000  0.000000  0.000000\n",
       "196   19.7  0.932627  -0.000000 -0.000000  0.000000  0.000000\n",
       "197   19.8  0.932627  -0.000000 -0.000000  0.000000  0.000000\n",
       "198   19.9  0.932627  -0.000000 -0.000000  0.000000  0.000000\n",
       "199   20.0  0.932627  -0.000000 -0.000000  0.000000  0.000000\n",
       "\n",
       "[200 rows x 6 columns]"
      ]
     },
     "execution_count": 362,
     "metadata": {},
     "output_type": "execute_result"
    }
   ],
   "source": [
    "alpha_arr = np.arange(0.1, 20.1, 0.1)\n",
    "r2_arr = np.zeros(200)\n",
    "c1_arr = np.zeros(200)\n",
    "c2_arr = np.zeros(200)\n",
    "c3_arr = np.zeros(200)\n",
    "c4_arr = np.zeros(200)\n",
    "k = 0\n",
    "for i in alpha_arr:\n",
    "    t = lasso_rg(i)\n",
    "    r2_arr[k] = t[0]\n",
    "    c1_arr[k] = t[1][0]\n",
    "    c2_arr[k] = t[1][1]\n",
    "    c3_arr[k] = t[1][2]\n",
    "    c4_arr[k] = t[1][3]\n",
    "    k+=1\n",
    "res = np.stack((alpha_arr, r2_arr, c1_arr, c2_arr, c3_arr, c4_arr), axis=1)\n",
    "rdf = pd.DataFrame(data=res)\n",
    "rdf.columns = ['alpha', 'R2', 'c1', 'c2', 'c3', 'c4']\n",
    "rdf"
   ]
  },
  {
   "cell_type": "code",
   "execution_count": 364,
   "id": "12a3568f",
   "metadata": {},
   "outputs": [
    {
     "data": {
      "image/png": "[encoded data removed]",
      "text/plain": [
       "<Figure size 432x288 with 1 Axes>"
      ]
     },
     "metadata": {
      "needs_background": "light"
     },
     "output_type": "display_data"
    }
   ],
   "source": [
    "rdf.plot(x = 0, y = 1)\n",
    "plt.xlabel('alpha')\n",
    "plt.ylabel('R2')\n",
    "plt.show()"
   ]
  },
  {
   "cell_type": "markdown",
   "id": "7a3d0362",
   "metadata": {},
   "source": [
    "Значение $R^2$ опять осталось неизменным"
   ]
  },
  {
   "cell_type": "code",
   "execution_count": 363,
   "id": "1f248526",
   "metadata": {},
   "outputs": [
    {
     "data": {
      "image/png": "[encoded data removed]",
      "text/plain": [
       "<Figure size 432x288 with 1 Axes>"
      ]
     },
     "metadata": {
      "needs_background": "light"
     },
     "output_type": "display_data"
    }
   ],
   "source": [
    "rdf.plot(x = 0, y = [2, 3, 4, 5])\n",
    "plt.xlabel('alpha')\n",
    "plt.ylabel('coefs')\n",
    "plt.show()"
   ]
  },
  {
   "cell_type": "markdown",
   "id": "95e19a5e",
   "metadata": {},
   "source": [
    "Благодаря графику мы можем наблюдать, на каких значениях все коэффициенты обратились в ноль."
   ]
  },
  {
   "cell_type": "markdown",
   "id": "94d13c9c",
   "metadata": {},
   "source": [
    "# II часть задания"
   ]
  },
  {
   "cell_type": "markdown",
   "id": "667213a6",
   "metadata": {},
   "source": [
    "Импортируем библиотеки"
   ]
  },
  {
   "cell_type": "code",
   "execution_count": 368,
   "id": "154fff3b",
   "metadata": {},
   "outputs": [],
   "source": [
    "import numpy as np\n",
    "import pandas as pd\n",
    "import matplotlib.pyplot as plt\n",
    "import csv\n",
    "from sklearn.model_selection import train_test_split\n",
    "from sklearn.tree import DecisionTreeClassifier\n",
    "from sklearn.preprocessing import StandardScaler\n",
    "from sklearn.metrics import r2_score\n",
    "from sklearn.linear_model import LinearRegression\n",
    "from sklearn.preprocessing import PolynomialFeatures"
   ]
  },
  {
   "cell_type": "markdown",
   "id": "1c7c67a8",
   "metadata": {},
   "source": [
    "Масштабируем данные и разделяем Dataframe"
   ]
  },
  {
   "cell_type": "code",
   "execution_count": 374,
   "id": "34f02d11",
   "metadata": {},
   "outputs": [],
   "source": [
    "data = pd.read_csv('C:/Users/ciril/Datasets/airfoil_self_noise.csv')\n",
    "scale = StandardScaler()\n",
    "X = data.drop('scaled_sound_pressure_level',axis='columns')\n",
    "Y = data['scaled_sound_pressure_level']\n",
    "X_scaled=scaler.fit_transform(X)\n",
    "X = pd.DataFrame(X_scaled,columns=['Frequencys','AngleAttack','ChordLengh','FreeStreamVelocity','SuctionSide displacement...'])\n",
    "X_train, X_test, Y_train, Y_test = train_test_split(X, Y, test_size=0.2, random_state=40)"
   ]
  },
  {
   "cell_type": "markdown",
   "id": "a753d229",
   "metadata": {},
   "source": [
    "Строим модель с линейной регрессией и получаем $R^2 = 0.44$"
   ]
  },
  {
   "cell_type": "code",
   "execution_count": 375,
   "id": "efcf51ae",
   "metadata": {},
   "outputs": [
    {
     "data": {
      "text/plain": [
       "0.4465805234416699"
      ]
     },
     "execution_count": 375,
     "metadata": {},
     "output_type": "execute_result"
    }
   ],
   "source": [
    "regression = LinearRegression()\n",
    "regression.fit(X_train, Y_train)\n",
    "y_pred=regression.predict(X_test)\n",
    "r2_score(Y_test, y_pred)"
   ]
  },
  {
   "cell_type": "markdown",
   "id": "ffbf1b5d",
   "metadata": {},
   "source": [
    "Теперь используем модель с полиномиальной регрессией, начиная с полинома 3-й степени и заканчивая 6-й"
   ]
  },
  {
   "cell_type": "code",
   "execution_count": 377,
   "id": "0cf5a9e3",
   "metadata": {},
   "outputs": [
    {
     "name": "stdout",
     "output_type": "stream",
     "text": [
      "0.7277815410266057\n"
     ]
    }
   ],
   "source": [
    "pl = PolynomialFeatures(3)\n",
    "X_test_pl=pl.fit_transform(X_test)\n",
    "X_train_pl=pl.fit_transform(X_train)\n",
    "regression.fit(X_train_pl,Y_train)\n",
    "Y_pred=regression.predict(X_test_pl)\n",
    "print(r2_score(Y_test,Y_pred))"
   ]
  },
  {
   "cell_type": "code",
   "execution_count": 378,
   "id": "bdef79b9",
   "metadata": {},
   "outputs": [
    {
     "name": "stdout",
     "output_type": "stream",
     "text": [
      "0.8267883968989578\n"
     ]
    }
   ],
   "source": [
    "pl = PolynomialFeatures(4)\n",
    "X_test_pl=pl.fit_transform(X_test)\n",
    "X_train_pl=pl.fit_transform(X_train)\n",
    "regression.fit(X_train_pl,Y_train)\n",
    "Y_pred=regression.predict(X_test_pl)\n",
    "print(r2_score(Y_test,Y_pred))"
   ]
  },
  {
   "cell_type": "code",
   "execution_count": 379,
   "id": "87b92c99",
   "metadata": {},
   "outputs": [
    {
     "name": "stdout",
     "output_type": "stream",
     "text": [
      "0.8500756480251013\n"
     ]
    }
   ],
   "source": [
    "pl = PolynomialFeatures(5)\n",
    "X_test_pl=pl.fit_transform(X_test)\n",
    "X_train_pl=pl.fit_transform(X_train)\n",
    "regression.fit(X_train_pl,Y_train)\n",
    "Y_pred=regression.predict(X_test_pl)\n",
    "print(r2_score(Y_test,Y_pred))"
   ]
  },
  {
   "cell_type": "code",
   "execution_count": 380,
   "id": "44945b20",
   "metadata": {},
   "outputs": [
    {
     "name": "stdout",
     "output_type": "stream",
     "text": [
      "-0.18068585573967644\n"
     ]
    }
   ],
   "source": [
    "pl = PolynomialFeatures(6)\n",
    "X_test_pl=pl.fit_transform(X_test)\n",
    "X_train_pl=pl.fit_transform(X_train)\n",
    "regression.fit(X_train_pl,Y_train)\n",
    "Y_pred=regression.predict(X_test_pl)\n",
    "print(r2_score(Y_test,Y_pred))"
   ]
  },
  {
   "cell_type": "markdown",
   "id": "808d173f",
   "metadata": {},
   "source": [
    "Видно, что наибольший показатель $R^2$ получается с полиномом 5-й степени, равный $0.85$"
   ]
  }
 ],
 "metadata": {
  "kernelspec": {
   "display_name": "Python 3 (ipykernel)",
   "language": "python",
   "name": "python3"
  },
  "language_info": {
   "codemirror_mode": {
    "name": "ipython",
    "version": 3
   },
   "file_extension": ".py",
   "mimetype": "text/x-python",
   "name": "python",
   "nbconvert_exporter": "python",
   "pygments_lexer": "ipython3",
   "version": "3.9.7"
  }
 },
 "nbformat": 4,
 "nbformat_minor": 5
}
